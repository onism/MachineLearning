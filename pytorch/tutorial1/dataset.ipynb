{
 "cells": [
  {
   "cell_type": "code",
   "execution_count": 2,
   "metadata": {},
   "outputs": [],
   "source": [
    "import torch\n",
    "from torch import nn\n",
    "from torch.autograd import Variable\n",
    "from torch.utils.data import Dataset, DataLoader\n",
    "import numpy as np"
   ]
  },
  {
   "cell_type": "code",
   "execution_count": 3,
   "metadata": {},
   "outputs": [],
   "source": [
    "class DiabetesDataset(Dataset):\n",
    "    # initialize your data, download, etc\n",
    "    def __init__(self):\n",
    "        xy = np.loadtxt('../dataset/diabetes.csv.gz', delimiter=',', dtype=np.float32)\n",
    "        self.len = xy.shape[0]\n",
    "        self.x_data = torch.from_numpy(xy[:,0:-1])\n",
    "        self.y_data = torch.from_numpy(xy[:,[-1]])\n",
    "        \n",
    "    def __getitem__(self, index):\n",
    "        return self.x_data[index], self.y_data[index]\n",
    "    \n",
    "    def __len__(self):\n",
    "        return self.len"
   ]
  },
  {
   "cell_type": "code",
   "execution_count": 4,
   "metadata": {},
   "outputs": [],
   "source": [
    "dataset = DiabetesDataset()\n",
    "train_loader = DataLoader(dataset=dataset, batch_size=32, shuffle=True)"
   ]
  },
  {
   "cell_type": "code",
   "execution_count": 5,
   "metadata": {},
   "outputs": [],
   "source": [
    "class DiabetesModel(nn.Module):\n",
    "    def __init__(self):\n",
    "        super(DiabetesModel, self).__init__()\n",
    "        self.l1 = torch.nn.Linear(8,6)\n",
    "        self.l2 = torch.nn.Linear(6,4)\n",
    "        self.l3 = torch.nn.Linear(4,1)\n",
    "        self.sigmoid = torch.nn.Sigmoid()\n",
    "    \n",
    "    def forward(self, x):\n",
    "        out1 = self.sigmoid(self.l1(x))\n",
    "        out2 = self.sigmoid(self.l2(out1))\n",
    "        y_pred = self.sigmoid(self.l3(out2))\n",
    "        return y_pred"
   ]
  },
  {
   "cell_type": "code",
   "execution_count": 6,
   "metadata": {},
   "outputs": [],
   "source": [
    "model = DiabetesModel()\n",
    "criterion = torch.nn.BCELoss(size_average = True)\n",
    "optimizer = torch.optim.SGD(model.parameters(), lr=0.1)"
   ]
  },
  {
   "cell_type": "code",
   "execution_count": 7,
   "metadata": {},
   "outputs": [
    {
     "name": "stdout",
     "output_type": "stream",
     "text": [
      "(0, 0, tensor(0.6877))\n",
      "(0, 1, tensor(0.6796))\n",
      "(0, 2, tensor(0.6728))\n",
      "(0, 3, tensor(0.6774))\n",
      "(0, 4, tensor(0.7001))\n",
      "(0, 5, tensor(0.6474))\n",
      "(0, 6, tensor(0.6481))\n",
      "(0, 7, tensor(0.6772))\n",
      "(0, 8, tensor(0.7068))\n",
      "(0, 9, tensor(0.6915))\n",
      "(0, 10, tensor(0.6706))\n",
      "(0, 11, tensor(0.6480))\n",
      "(0, 12, tensor(0.6769))\n",
      "(0, 13, tensor(0.6261))\n",
      "(0, 14, tensor(0.6363))\n",
      "(0, 15, tensor(0.6848))\n",
      "(0, 16, tensor(0.6650))\n",
      "(0, 17, tensor(0.6537))\n",
      "(0, 18, tensor(0.6644))\n",
      "(0, 19, tensor(0.6293))\n",
      "(0, 20, tensor(0.6144))\n",
      "(0, 21, tensor(0.6619))\n",
      "(0, 22, tensor(0.6619))\n",
      "(0, 23, tensor(0.6500))\n",
      "(1, 0, tensor(0.6482))\n",
      "(1, 1, tensor(0.6882))\n",
      "(1, 2, tensor(0.6478))\n",
      "(1, 3, tensor(0.7031))\n",
      "(1, 4, tensor(0.6882))\n",
      "(1, 5, tensor(0.6617))\n",
      "(1, 6, tensor(0.6220))\n",
      "(1, 7, tensor(0.6752))\n",
      "(1, 8, tensor(0.6338))\n",
      "(1, 9, tensor(0.6184))\n",
      "(1, 10, tensor(0.6904))\n",
      "(1, 11, tensor(0.6607))\n",
      "(1, 12, tensor(0.6901))\n",
      "(1, 13, tensor(0.5753))\n",
      "(1, 14, tensor(0.6454))\n",
      "(1, 15, tensor(0.6134))\n",
      "(1, 16, tensor(0.5952))\n",
      "(1, 17, tensor(0.6269))\n",
      "(1, 18, tensor(0.6258))\n",
      "(1, 19, tensor(0.6782))\n",
      "(1, 20, tensor(0.6782))\n",
      "(1, 21, tensor(0.5575))\n",
      "(1, 22, tensor(0.6974))\n",
      "(1, 23, tensor(0.5711))\n"
     ]
    },
    {
     "name": "stderr",
     "output_type": "stream",
     "text": [
      "/Users/junjie/TF/lib/python2.7/site-packages/ipykernel_launcher.py:7: UserWarning: invalid index of a 0-dim tensor. This will be an error in PyTorch 0.5. Use tensor.item() to convert a 0-dim tensor to a Python number\n",
      "  import sys\n"
     ]
    }
   ],
   "source": [
    "for epoch in range(2):\n",
    "    for i, data in enumerate(train_loader, 0):\n",
    "        inputs, labels = data\n",
    "        inputs, labels = Variable(inputs), Variable(labels)\n",
    "        y_pred = model(inputs)\n",
    "        loss = criterion(y_pred, labels)\n",
    "        print(epoch, i, loss.data[0])\n",
    "        optimizer.zero_grad()\n",
    "        loss.backward()\n",
    "        optimizer.step()"
   ]
  },
  {
   "cell_type": "code",
   "execution_count": null,
   "metadata": {},
   "outputs": [],
   "source": []
  }
 ],
 "metadata": {
  "kernelspec": {
   "display_name": "deeplearning",
   "language": "python",
   "name": "deeplearning"
  },
  "language_info": {
   "codemirror_mode": {
    "name": "ipython",
    "version": 2
   },
   "file_extension": ".py",
   "mimetype": "text/x-python",
   "name": "python",
   "nbconvert_exporter": "python",
   "pygments_lexer": "ipython2",
   "version": "2.7.12"
  }
 },
 "nbformat": 4,
 "nbformat_minor": 2
}
